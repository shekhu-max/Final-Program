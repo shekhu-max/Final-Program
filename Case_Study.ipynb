{
 "cells": [
  {
   "cell_type": "code",
   "execution_count": 1,
   "metadata": {},
   "outputs": [
    {
     "name": "stdout",
     "output_type": "stream",
     "text": [
      "Welcome to *Supply chain Network Design Program* \n",
      "\n",
      "It tell us about the stock and Duration this Supply Chain Design Works in Panademic\n",
      "\n",
      "In how many months after supply chain network design disruption occur:60\n"
     ]
    }
   ],
   "source": [
    "print('Welcome to *Supply chain Network Design Program*','\\n\\nIt tell us about the stock and Duration this Supply Chain Design Works in Panademic\\n')\n",
    "m=0\n",
    "b=[]\n",
    "c=[]\n",
    "Suppliers={1:536.80,2:871.3,3:2658.44}\n",
    "type(Suppliers)\n",
    "t=int(input('In how many months after supply chain network design disruption occur:'))\n",
    "d={}\n",
    "i={}"
   ]
  },
  {
   "cell_type": "code",
   "execution_count": 2,
   "metadata": {
    "scrolled": true
   },
   "outputs": [
    {
     "name": "stdout",
     "output_type": "stream",
     "text": [
      "Is your goods pershiable or not?\n",
      "Press \n",
      "1 for Pershiable Goods\n",
      "2 for Non Pershiable goods\n",
      "\n",
      "2\n"
     ]
    },
    {
     "data": {
      "text/plain": [
       "2"
      ]
     },
     "execution_count": 2,
     "metadata": {},
     "output_type": "execute_result"
    }
   ],
   "source": [
    "ben=int(input('Is your goods pershiable or not?\\nPress \\n1 for Pershiable Goods\\n2 for Non Pershiable goods\\n\\n'))\n",
    "ben"
   ]
  },
  {
   "cell_type": "code",
   "execution_count": 3,
   "metadata": {
    "scrolled": true
   },
   "outputs": [
    {
     "name": "stdout",
     "output_type": "stream",
     "text": [
      "Cold Storage is operateable\n",
      "Enter Yes or No:no\n"
     ]
    }
   ],
   "source": [
    "if ben==1:\n",
    "    life={}\n",
    "    print('Enter different tempratues in C and its life span assosiated with it\\n')\n",
    "    while True:\n",
    "        l=input('Enter Temprature : ')\n",
    "        if l=='done':\n",
    "            break\n",
    "        l=int(l)\n",
    "        de=float(input('Enter life of goods at %d Celsius in months is '%(l) ))\n",
    "        life[l]=de\n",
    "    temp=int(input('\\nEnter temprature on which goods is stored : '))\n",
    "te=input('Cold Storage is operateable\\nEnter Yes or No:')\n",
    "te=te.lower()\n",
    "if te=='no' and ben==1:\n",
    "    ret=life[temp]\n",
    "    if ret<1:\n",
    "        sen=ret*30\n",
    "        print('Supply chain works only till',int(sen),'days')\n",
    "    if ret>1:\n",
    "        print('Supply chain works only till',int(ret),'months')"
   ]
  },
  {
   "cell_type": "code",
   "execution_count": 5,
   "metadata": {},
   "outputs": [],
   "source": [
    "if te=='yes' and ben==1: \n",
    "    for lm in life.keys(): \n",
    "        if temp>=lm:\n",
    "            ret=life[lm]\n",
    "    print(ret)"
   ]
  },
  {
   "cell_type": "code",
   "execution_count": 6,
   "metadata": {},
   "outputs": [],
   "source": [
    "Retailers={1:266.67,2:463.37,3:663.14,4:664.32,5:664.32,6:666.66}"
   ]
  },
  {
   "cell_type": "code",
   "execution_count": 7,
   "metadata": {
    "scrolled": true
   },
   "outputs": [
    {
     "name": "stdout",
     "output_type": "stream",
     "text": [
      "Disruption in which side enter 1 for Supplier and 2 for Retailers: 2\n",
      "Processing.............................................\n",
      "After entering data Please Enter done\n",
      "*One Retailer no. at a time*\n",
      "Disruption in retailer 1 or 2 or soon: 2\n",
      "After entering data Please Enter done\n",
      "*One Retailer no. at a time*\n",
      "Disruption in retailer 1 or 2 or soon: done\n",
      "[] [2]\n"
     ]
    }
   ],
   "source": [
    "if te=='yes' or ben==2:\n",
    "    try:\n",
    "        a=int(input('Disruption in which side enter 1 for Supplier and 2 for Retailers: '))\n",
    "        if a in range(1,3):\n",
    "            print('Processing.............................................')\n",
    "        else:\n",
    "            print('enter valid data')\n",
    "    except:\n",
    "        print('enter valid data')\n",
    "    if a==1:\n",
    "        while True:\n",
    "                mi=input('After entering data Please Enter done\\n*One Supplier no. at a time*\\nDisruption in supplier 1 or 2 or 3: ')\n",
    "                if mi=='done':\n",
    "                    break\n",
    "                b.append(int(mi))\n",
    "    if a==2:\n",
    "        while True:\n",
    "            mi=input('After entering data Please Enter done\\n*One Retailer no. at a time*\\nDisruption in retailer 1 or 2 or soon: ')\n",
    "            if mi=='done':\n",
    "                break\n",
    "            c.append(int(mi))\n",
    "    print(b,c)"
   ]
  },
  {
   "cell_type": "code",
   "execution_count": 8,
   "metadata": {},
   "outputs": [
    {
     "name": "stdout",
     "output_type": "stream",
     "text": [
      "Retailer 1 associate with supplier 1\n",
      "Retailer 2 associate with supplier 2\n",
      "Retailer 3 associate with supplier 3\n",
      "Retailer 4 associate with supplier 3\n",
      "Retailer 5 associate with supplier 3\n",
      "Retailer 6 associate with supplier 3\n",
      "{1: 1, 2: 2, 3: 3, 4: 3, 5: 3, 6: 3}\n"
     ]
    }
   ],
   "source": [
    "if te=='yes'or ben==2:\n",
    "    for m in Retailers.keys():\n",
    "        j=int(input('Retailer %d associate with supplier '%(m)))\n",
    "        i[m]=j\n",
    "    print(i)"
   ]
  },
  {
   "cell_type": "code",
   "execution_count": 9,
   "metadata": {},
   "outputs": [
    {
     "name": "stdout",
     "output_type": "stream",
     "text": [
      "{1: 16207, 2: 12237, 3: 39906, 4: 29911, 5: 23929, 6: 19917}\n"
     ]
    }
   ],
   "source": [
    "if te=='yes'or ben==2:\n",
    "    for m,l in i.items():\n",
    "        p=int((Suppliers[l]-Retailers[m])*(t/m))\n",
    "        if p>=0:\n",
    "            d[m]=p\n",
    "        else:\n",
    "            d[m]=0\n",
    "    print(d)"
   ]
  },
  {
   "cell_type": "code",
   "execution_count": 11,
   "metadata": {},
   "outputs": [
    {
     "name": "stdout",
     "output_type": "stream",
     "text": [
      "Emergency Stock use by retailer 2 and market supply not affected till 26 months.\n"
     ]
    }
   ],
   "source": [
    "if te=='yes'or ben==2:\n",
    "    if a==2:\n",
    "        for m in c:\n",
    "            s=d[m]/Retailers[m]\n",
    "            if s<1 and s>0 :\n",
    "                s=int(s*30)\n",
    "                if ben==1 and ret<1:\n",
    "                    ret=ret*30\n",
    "                    if s>ret:\n",
    "                        s=ret\n",
    "                print('Emergency Stock use by retailer %d and market supply not affected till'%(m),s,'days.')\n",
    "                continue\n",
    "            if ben==1:\n",
    "                if s>ret:\n",
    "                    s=ret\n",
    "            print('Emergency Stock use by retailer %d and market supply not affected till'%(m),int(s),'months.')"
   ]
  },
  {
   "cell_type": "code",
   "execution_count": 14,
   "metadata": {
    "scrolled": true
   },
   "outputs": [],
   "source": [
    "if te=='yes'or ben==2:\n",
    "    s=0\n",
    "    if a==1:\n",
    "        print('If no supplies is provided to the Retailers.\\nThen there life span is given below:')\n",
    "        for m in range(1,len(Retailers)+1):\n",
    "            s=d[m]/Retailers[m]\n",
    "            if s<1:\n",
    "                s=int(s*30)\n",
    "                if ben==1:\n",
    "                    ret=ret*30\n",
    "                    if s>ret:\n",
    "                        s=ret\n",
    "                print('Supply from retailer %d to market not affected till'%(m),s,'days')\n",
    "                continue\n",
    "            if ben==1:\n",
    "                if s>ret:\n",
    "                    s=ret\n",
    "            print('Supply from retailer %d to market not affected till'%(m),int(s),'months')"
   ]
  },
  {
   "cell_type": "code",
   "execution_count": 16,
   "metadata": {
    "scrolled": true
   },
   "outputs": [],
   "source": [
    "if te=='yes'or ben==2:\n",
    "    if a==1:\n",
    "        s=0\n",
    "        for h in d.values():\n",
    "            s=s+h\n",
    "        print('Total Available/Profit stock on design of supply chain network in units is',s)"
   ]
  },
  {
   "cell_type": "code",
   "execution_count": 19,
   "metadata": {},
   "outputs": [],
   "source": [
    "if te=='yes' or ben==2:\n",
    "    if a==1:\n",
    "        z=None\n",
    "        if a==1:\n",
    "            for m,j in i.items():\n",
    "                for n in b:\n",
    "                    if j==n:\n",
    "                        s=d[m]/Retailers[m]\n",
    "                        if ben==1:\n",
    "                            if s>ret:\n",
    "                                s=ret\n",
    "                        print('Available Stock stock %d units used by retailer %d upto %d months.\\n'%(d[m],m,s))\n",
    "                        if z==None or z>(d[m]/Retailers[m]):\n",
    "                            z=d[m]/Retailers[m]\n",
    "                            if ben==1:\n",
    "                                if z>ret:\n",
    "                                    z=ret\n",
    "        print('\\n*Supply Chain Network Design Model Works till',int(z),'months.*')"
   ]
  },
  {
   "cell_type": "code",
   "execution_count": 14,
   "metadata": {},
   "outputs": [
    {
     "name": "stdout",
     "output_type": "stream",
     "text": [
      "Thankyou! \n",
      "Project done under guidance of *Prof. Pallab Biswas* \n",
      "Workdone by:\n",
      "     Shekhar Yadav \n",
      "     Vasu Gupta \n",
      "     Abhishek Singh \n",
      "     Anirudra Rajput\n"
     ]
    }
   ],
   "source": [
    "print('Thankyou!','\\nProject done under guidance of *Prof. Pallab Biswas*','\\nWorkdone by:\\n     Shekhar Yadav \\n     Vasu Gupta \\n     Abhishek Singh \\n     Anirudra Rajput')"
   ]
  }
 ],
 "metadata": {
  "kernelspec": {
   "display_name": "Python 3",
   "language": "python",
   "name": "python3"
  },
  "language_info": {
   "codemirror_mode": {
    "name": "ipython",
    "version": 3
   },
   "file_extension": ".py",
   "mimetype": "text/x-python",
   "name": "python",
   "nbconvert_exporter": "python",
   "pygments_lexer": "ipython3",
   "version": "3.7.9"
  }
 },
 "nbformat": 4,
 "nbformat_minor": 4
}
